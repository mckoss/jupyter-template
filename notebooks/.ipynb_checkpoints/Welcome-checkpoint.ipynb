{
 "cells": [
  {
   "cell_type": "markdown",
   "id": "7b3bfa26",
   "metadata": {},
   "source": [
    "# Welcome to Jupyter-Template for repl.it\n",
    "\n",
    "This Jupyter server is being served on a repl.it repl.  You can make your own server by visiting\n",
    "[this template](https://replit.com/@mckoss/jupyter-template) and clicking the `Fork` button."
   ]
  },
  {
   "cell_type": "code",
   "execution_count": 2,
   "id": "e65d66d7",
   "metadata": {},
   "outputs": [
    {
     "data": {
      "text/plain": [
       "2"
      ]
     },
     "execution_count": 2,
     "metadata": {},
     "output_type": "execute_result"
    }
   ],
   "source": [
    "1 + 1"
   ]
  }
 ],
 "metadata": {
  "kernelspec": {
   "display_name": "Python 3 (ipykernel)",
   "language": "python",
   "name": "python3"
  },
  "language_info": {
   "codemirror_mode": {
    "name": "ipython",
    "version": 3
   },
   "file_extension": ".py",
   "mimetype": "text/x-python",
   "name": "python",
   "nbconvert_exporter": "python",
   "pygments_lexer": "ipython3",
   "version": "3.8.12"
  }
 },
 "nbformat": 4,
 "nbformat_minor": 5
}
